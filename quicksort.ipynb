{
 "cells": [
  {
   "cell_type": "code",
   "execution_count": 2,
   "id": "2a471bb0-b826-48d8-b85a-596ba1093dd6",
   "metadata": {},
   "outputs": [
    {
     "name": "stdin",
     "output_type": "stream",
     "text": [
      "Enter number of movies:  4\n",
      " MovieA 8.5 2020 500\n",
      " MovieB 9.0 2019 700\n",
      " MovieC 7.8 2021 400\n",
      " MovieD 8.9 2022 800\n",
      "Sort by (rating/year/popularity):  year\n"
     ]
    },
    {
     "name": "stdout",
     "output_type": "stream",
     "text": [
      "\n",
      "Sorted Movies:\n",
      "MovieD 8.9 2022 800\n",
      "MovieC 7.8 2021 400\n",
      "MovieA 8.5 2020 500\n",
      "MovieB 9.0 2019 700\n"
     ]
    }
   ],
   "source": [
    "class Movie:\n",
    "    def __init__(self, name, rating, year, popularity):\n",
    "        self.name = name\n",
    "        self.rating = rating\n",
    "        self.year = int(year)\n",
    "        self.popularity = int(popularity)\n",
    "\n",
    "    def __str__(self):\n",
    "        return f\"{self.name} {self.rating} {self.year} {self.popularity}\"\n",
    "\n",
    "def partition(arr, low, high, key):\n",
    "    pivot = getattr(arr[high], key)\n",
    "    i = low - 1\n",
    "    for j in range(low, high):\n",
    "        if getattr(arr[j], key) >= pivot:  # descending order\n",
    "            i += 1\n",
    "            arr[i], arr[j] = arr[j], arr[i]\n",
    "    arr[i+1], arr[high] = arr[high], arr[i+1]\n",
    "    return i + 1\n",
    "\n",
    "def quicksort(arr, low, high, key):\n",
    "    if low < high:\n",
    "        pi = partition(arr, low, high, key)\n",
    "        quicksort(arr, low, pi - 1, key)\n",
    "        quicksort(arr, pi + 1, high, key)\n",
    "\n",
    "# ---- Main ----\n",
    "n = int(input(\"Enter number of movies: \"))\n",
    "movies = []\n",
    "for _ in range(n):\n",
    "    name, rating, year, popularity = input().split()\n",
    "    movies.append(Movie(name, rating, year, popularity))\n",
    "\n",
    "# User selects sorting parameter\n",
    "key = input(\"Sort by (rating/year/popularity): \")\n",
    "\n",
    "quicksort(movies, 0, n - 1, key)\n",
    "\n",
    "print(\"\\nSorted Movies:\")\n",
    "for m in movies:\n",
    "    print(m)"
   ]
  },
  {
   "cell_type": "code",
   "execution_count": null,
   "id": "b8f945e7-d160-4b52-9927-e71474cff5bb",
   "metadata": {},
   "outputs": [],
   "source": []
  }
 ],
 "metadata": {
  "kernelspec": {
   "display_name": "Python 3 (ipykernel)",
   "language": "python",
   "name": "python3"
  },
  "language_info": {
   "codemirror_mode": {
    "name": "ipython",
    "version": 3
   },
   "file_extension": ".py",
   "mimetype": "text/x-python",
   "name": "python",
   "nbconvert_exporter": "python",
   "pygments_lexer": "ipython3",
   "version": "3.12.7"
  }
 },
 "nbformat": 4,
 "nbformat_minor": 5
}
